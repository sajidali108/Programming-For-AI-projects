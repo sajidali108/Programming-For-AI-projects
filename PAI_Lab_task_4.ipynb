{
  "nbformat": 4,
  "nbformat_minor": 0,
  "metadata": {
    "colab": {
      "provenance": []
    },
    "kernelspec": {
      "name": "python3",
      "display_name": "Python 3"
    },
    "language_info": {
      "name": "python"
    }
  },
  "cells": [
    {
      "cell_type": "code",
      "execution_count": 1,
      "metadata": {
        "id": "DlkrAsM8i33P"
      },
      "outputs": [],
      "source": [
        "def nqueens(n):\n",
        "    def check(row, col, queens):\n",
        "        for r, c in queens:\n",
        "            if c == col or abs(r - row) == abs(c - col):\n",
        "                return False\n",
        "        return True\n",
        "\n",
        "    def backtrack(row, queens):\n",
        "        if row == n:\n",
        "            return [queens.copy()]\n",
        "        solutions = []\n",
        "        for col in range(n):\n",
        "            if check(row, col, queens):\n",
        "                queens.append((row, col))\n",
        "                solutions += backtrack(row + 1, queens)\n",
        "                queens.pop()\n",
        "        return solutions\n",
        "    solutions = backtrack(0, [])\n",
        "    return solutions\n",
        "\n",
        "def print_solution(solution, n):\n",
        "    board = [['.' for _ in range(n)] for _ in range(n)]\n",
        "    for row, col in solution:\n",
        "        board[row][col] = 'Q'\n",
        "    for row in board:\n",
        "        print(' '.join(row))\n",
        "\n",
        "\n"
      ]
    },
    {
      "cell_type": "code",
      "source": [
        "n = 4\n",
        "solutions = nqueens(n)\n",
        "print(f\"Found {len(solutions)} solutions for {n}-Queens:\")\n",
        "\n",
        "solution_number = 1\n",
        "for sol in solutions:\n",
        "    print(f\"\\nSolution {solution_number}:\")\n",
        "    print_solution(sol, n)\n",
        "    solution_number += 1"
      ],
      "metadata": {
        "colab": {
          "base_uri": "https://localhost:8080/"
        },
        "id": "uQsPkDg1oxvL",
        "outputId": "cb2977e2-b36a-42d0-a544-ab5441a13f2f"
      },
      "execution_count": 2,
      "outputs": [
        {
          "output_type": "stream",
          "name": "stdout",
          "text": [
            "Found 2 solutions for 4-Queens:\n",
            "\n",
            "Solution 1:\n",
            ". Q . .\n",
            ". . . Q\n",
            "Q . . .\n",
            ". . Q .\n",
            "\n",
            "Solution 2:\n",
            ". . Q .\n",
            "Q . . .\n",
            ". . . Q\n",
            ". Q . .\n"
          ]
        }
      ]
    }
  ]
}
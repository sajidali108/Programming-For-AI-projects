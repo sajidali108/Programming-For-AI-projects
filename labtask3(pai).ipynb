{
  "nbformat": 4,
  "nbformat_minor": 0,
  "metadata": {
    "colab": {
      "provenance": []
    },
    "kernelspec": {
      "name": "python3",
      "display_name": "Python 3"
    },
    "language_info": {
      "name": "python"
    }
  },
  "cells": [
    {
      "cell_type": "code",
      "execution_count": null,
      "metadata": {
        "id": "pVxIWeXtYwmR"
      },
      "outputs": [],
      "source": [
        "def dfs_waterjug(jug1_cap,jug2_cap, goal):\n",
        "  visited= set()\n",
        "  stack= [(0,0,[])]\n",
        "  while stack:\n",
        "    j1, j2, path= stack.pop()\n",
        "\n",
        "    if j1 == goal or j2 == goal:\n",
        "      return path\n",
        "\n",
        "    if (j1, j2) in visited:\n",
        "      continue\n",
        "    visited.add((j1,j2))\n",
        "\n",
        "\n",
        "# Rule1: Fill jug1:\n",
        "    if (jug1_cap, j2) not in visited:\n",
        "      stack.append((jug1_cap, j2, path+['fill jug1']))\n",
        "    # Rule 2: fill jug2:\n",
        "    if (j1, jug2_cap) not in visited:\n",
        "      stack.append((j1, jug2_cap, path + ['fill jug2']))\n",
        "    # Rule 3: emtpy jug1:\n",
        "    if(0, j2) not in visited:\n",
        "      stack.append((0, j2, path+ ['Empty jug1']))\n",
        "    # Rule 4: Empty jug2\n",
        "    if (j1, 0 ) not in visited:\n",
        "      stack.append((j1, 0 , path + ['Empty jug2']))\n",
        "\n",
        "    # Rule 5: Pour jug1 to jug2 :\n",
        "    pour = min(j1, jug2_cap-j2)\n",
        "    newj1, newj2 = j1-pour, j2+pour\n",
        "    if (newj1, newj2) not in visited:\n",
        "      stack.append((newj1, newj2, path +[pour]))\n",
        "\n",
        "    # Rule6 Pour jug2 to jug1:\n",
        "    pour = min(j2, jug1_cap-j1)\n",
        "    newj1, newj2= j1 +pour, j2 - pour\n",
        "    if (newj1, newj2) not in visited:\n",
        "      stack.append((newj1, newj2, path+[pour]))"
      ]
    },
    {
      "cell_type": "code",
      "source": [
        "check= dfs_waterjug(4, 3, 2)\n",
        "if check:\n",
        "  print('Steps: ')\n",
        "  for step in check:\n",
        "    print(step)\n",
        "\n",
        "else:\n",
        "  print('no solution')"
      ],
      "metadata": {
        "id": "m9SQpiVZyd5a",
        "colab": {
          "base_uri": "https://localhost:8080/"
        },
        "outputId": "269a3087-0c77-4ee4-c0a1-56d92f984e90"
      },
      "execution_count": null,
      "outputs": [
        {
          "output_type": "stream",
          "name": "stdout",
          "text": [
            "Steps: \n",
            "fill jug2\n",
            "3\n",
            "fill jug2\n",
            "1\n"
          ]
        }
      ]
    }
  ]
}